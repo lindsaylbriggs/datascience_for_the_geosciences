{
 "cells": [
  {
   "cell_type": "markdown",
   "metadata": {},
   "source": [
    "# This is the largest heading\n",
    "## This is the second largest heading\n",
    "### This is the third largest heading\n",
    "#### This is the fourth largest heading"
   ]
  },
  {
   "cell_type": "markdown",
   "metadata": {},
   "source": [
    "# Bold / Italics:\n",
    "\n",
    "**This is how you do bold Text**\n",
    "\n",
    "*This is how you do italic text*"
   ]
  },
  {
   "cell_type": "markdown",
   "metadata": {},
   "source": [
    "# Mathematical Text:\n",
    "\n",
    "We will then demonstrate Einstein's equation...\n",
    "\n",
    "$ e = mc^2 $\n",
    "\n",
    "We present the code for the force equation...\n",
    "\n",
    "$ f = ma $"
   ]
  },
  {
   "cell_type": "markdown",
   "metadata": {},
   "source": [
    "# LaTeX Style Symbols\n",
    "\n",
    "See: http://csrgxtu.github.io/2015/03/20/Writing-Mathematic-Fomulars-in-Markdown/\n",
    "\n",
    "Examples:\n",
    "\n",
    "$\\infty$\n",
    "\n",
    "$k_{n+1}$\n",
    "\n",
    "$\\frac{n!}{k!(n-k)!}$\n",
    "\n",
    "$\\sqrt{k}$\n",
    "\n",
    "$\\int\\limits_a^b$"
   ]
  },
  {
   "cell_type": "markdown",
   "metadata": {},
   "source": [
    "# Formatting code in a markdown\n",
    "\n",
    "`one_line = True`\n",
    "\n",
    "`\n",
    "one_line = False\n",
    "two_lines = True\n",
    "`"
   ]
  },
  {
   "cell_type": "markdown",
   "metadata": {},
   "source": [
    "# Forcing line breaks\n",
    "\n",
    "Line break <br> here"
   ]
  },
  {
   "cell_type": "markdown",
   "metadata": {},
   "source": [
    "# Text color\n",
    "\n",
    "<font color=blue>Blue Text</font>\n",
    "\n",
    "<font color=red>Red Text</font>\n",
    "\n",
    "<font color=yellow>Yellow Text</font>"
   ]
  },
  {
   "cell_type": "markdown",
   "metadata": {},
   "source": [
    "# Indenting\n",
    "\n",
    "> Indent once\n",
    "\n",
    ">> Indent twice\n",
    "\n",
    ">>> Indent thrice"
   ]
  },
  {
   "cell_type": "markdown",
   "metadata": {},
   "source": [
    "# Bullets and Numbered lists\n",
    "\n",
    "- Bullet 1\n",
    "- Bullet 2\n",
    "- Bullet 3\n",
    "\n",
    "\n",
    "1. Numbered 1\n",
    "2. Numbered 2\n",
    "3. Numbered 3"
   ]
  },
  {
   "cell_type": "markdown",
   "metadata": {},
   "source": [
    "# Draw dividing lines in the notebook\n",
    "\n",
    "***\n",
    "\n",
    "This is the first section\n",
    "\n",
    "***\n",
    "\n",
    "This is the second section\n",
    "\n",
    "***\n",
    "\n",
    "This is the last section\n",
    "\n",
    "***"
   ]
  },
  {
   "cell_type": "markdown",
   "metadata": {},
   "source": [
    "# We can even include images and urls.\n",
    "\n",
    "__[We used the following reference for the area of a circle](https://en.wikipedia.org/wiki/Area_of_a_circle)__\n",
    "\n",
    "<img src=\"https://upload.wikimedia.org/wikipedia/commons/c/ce/Circle_Area.svg\" alt=\"Area of a circle diagram\" title=\"Area of a Circle\" align=\"left\"/>\n",
    "\n",
    "\n"
   ]
  },
  {
   "cell_type": "code",
   "execution_count": null,
   "metadata": {},
   "outputs": [],
   "source": []
  }
 ],
 "metadata": {
  "kernelspec": {
   "display_name": "Python [conda env:metpy]",
   "language": "python",
   "name": "conda-env-metpy-py"
  },
  "language_info": {
   "codemirror_mode": {
    "name": "ipython",
    "version": 3
   },
   "file_extension": ".py",
   "mimetype": "text/x-python",
   "name": "python",
   "nbconvert_exporter": "python",
   "pygments_lexer": "ipython3",
   "version": "3.9.16"
  }
 },
 "nbformat": 4,
 "nbformat_minor": 4
}
