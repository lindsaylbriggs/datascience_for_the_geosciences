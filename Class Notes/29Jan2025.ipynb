{
 "cells": [
  {
   "cell_type": "markdown",
   "id": "7eae5926-4c2c-44f9-acce-e58b08854f1d",
   "metadata": {},
   "source": [
    "Xarray"
   ]
  },
  {
   "cell_type": "markdown",
   "id": "7cb22070-0f91-430f-b030-82eb05a95c06",
   "metadata": {},
   "source": [
    "multi-dimension plotting thingy"
   ]
  },
  {
   "cell_type": "markdown",
   "id": "bef4857c-7251-442a-988a-ae506266c1f6",
   "metadata": {},
   "source": [
    "GroupBy\n",
    "\n",
    "\n"
   ]
  },
  {
   "cell_type": "code",
   "execution_count": null,
   "id": "28b097e8-ef1c-43b0-9ab5-7f6c98967394",
   "metadata": {},
   "outputs": [],
   "source": []
  }
 ],
 "metadata": {
  "kernelspec": {
   "display_name": "Python 3 (ipykernel)",
   "language": "python",
   "name": "python3"
  },
  "language_info": {
   "codemirror_mode": {
    "name": "ipython",
    "version": 3
   },
   "file_extension": ".py",
   "mimetype": "text/x-python",
   "name": "python",
   "nbconvert_exporter": "python",
   "pygments_lexer": "ipython3",
   "version": "3.9.12"
  }
 },
 "nbformat": 4,
 "nbformat_minor": 5
}
